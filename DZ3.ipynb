{
 "cells": [
  {
   "cell_type": "code",
   "execution_count": 1,
   "metadata": {},
   "outputs": [
    {
     "name": "stdout",
     "output_type": "stream",
     "text": [
      "{'yandex'}\n"
     ]
    }
   ],
   "source": [
    "# ДЗ 3 задача 1\n",
    "stats = {'facebook': 55, 'yandex': 120, 'vk': 115, 'google': 99, 'email': 42, 'ok': 98}\n",
    "max_stats = {key for key, values in stats.items() if values == max(stats.values())}\n",
    "print (max_stats)"
   ]
  },
  {
   "cell_type": "code",
   "execution_count": 3,
   "metadata": {},
   "outputs": [
    {
     "name": "stdout",
     "output_type": "stream",
     "text": [
      "Разница с исходным 1 списком составляет:  5  слов(о)\n",
      "Разница с исходным 2 списком составляет:  1  слов(о)\n",
      "Разница с исходным 3 списком составляет:  1  слов(о)\n"
     ]
    }
   ],
   "source": [
    "# ДЗ 3 задача 2\n",
    "descriptions = [\n",
    "['браслет', 'xiaomi', 'mi', 'band', '2.', 'умный', 'браслет', 'xiaomi', 'mi', 'лидер', 'в',\n",
    "'линейке', 'xiaomi.','фитнес', 'браслет', 'для', 'android', '4.4,', 'ios', '7,', 'экран', 'oled.',\n",
    "'лучший', 'выбор','xiaomi'],\n",
    "['браслет', 'huawei', 'honor', 'band', '3.', 'фитнес', 'браслет', 'влагозащищенный', 'сенсорный',\n",
    "'экран','android,', 'ios', 'мониторинг', 'сна'],\n",
    "['браслет', 'samsung', 'gear', 'fit2', 'pro.', 'влагозащищенный', 'сенсорный', 'amoled-экран',\n",
    "'мониторинг', 'сна,', 'калорий,', 'новинка', 'samsung'],\n",
    "]\n",
    "y = 0\n",
    "s = 1\n",
    "for x in descriptions:\n",
    "    my_set = set(x)\n",
    "    different_ = len(descriptions[y]) - len(my_set)\n",
    "    print ('Разница с исходным', s, 'списком составляет: ', different_, ' слов(о)')\n",
    "    y +=1\n",
    "    s +=1"
   ]
  },
  {
   "cell_type": "code",
   "execution_count": 1,
   "metadata": {},
   "outputs": [
    {
     "name": "stdout",
     "output_type": "stream",
     "text": [
      "Введите количество столбцов, по которым будет поиск: 3\n",
      "{('14', '26376', '3'): ['13301']}\n"
     ]
    }
   ],
   "source": [
    "# ДЗ 3 задача 3\n",
    "# первый break в конструкции if только для наглядности первого ключа и его значения\n",
    "n = int(input('Введите количество столбцов, по которым будет поиск: '))\n",
    "def dict_for_find ():\n",
    "    dic_find = {}\n",
    "    with open('stats.csv') as str_stats:\n",
    "        for line in str_stats:\n",
    "            line = line.strip().split(',')\n",
    "            if len(line) > n:\n",
    "                key_tuple = tuple(line[0:n])\n",
    "                dic_find[key_tuple] = line[n:]\n",
    "                break\n",
    "            else:\n",
    "                print ('Вы ввели количество столбцов равным или превышающим количеству столбцов в списке')\n",
    "                break\n",
    "    return dic_find\n",
    "print (dict_for_find())"
   ]
  }
 ],
 "metadata": {
  "kernelspec": {
   "display_name": "Python 3",
   "language": "python",
   "name": "python3"
  },
  "language_info": {
   "codemirror_mode": {
    "name": "ipython",
    "version": 3
   },
   "file_extension": ".py",
   "mimetype": "text/x-python",
   "name": "python",
   "nbconvert_exporter": "python",
   "pygments_lexer": "ipython3",
   "version": "3.7.3"
  }
 },
 "nbformat": 4,
 "nbformat_minor": 2
}
